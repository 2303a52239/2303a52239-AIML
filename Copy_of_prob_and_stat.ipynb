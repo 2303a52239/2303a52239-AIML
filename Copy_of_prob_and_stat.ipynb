{
  "nbformat": 4,
  "nbformat_minor": 0,
  "metadata": {
    "colab": {
      "provenance": [],
      "authorship_tag": "ABX9TyNXe/bo1tk7iyTD0RU8F+Qy",
      "include_colab_link": true
    },
    "kernelspec": {
      "name": "python3",
      "display_name": "Python 3"
    },
    "language_info": {
      "name": "python"
    }
  },
  "cells": [
    {
      "cell_type": "markdown",
      "metadata": {
        "id": "view-in-github",
        "colab_type": "text"
      },
      "source": [
        "<a href=\"https://colab.research.google.com/github/2303a52239/2303a52239-AIML/blob/main/Copy_of_prob_and_stat.ipynb\" target=\"_parent\"><img src=\"https://colab.research.google.com/assets/colab-badge.svg\" alt=\"Open In Colab\"/></a>"
      ]
    },
    {
      "cell_type": "code",
      "execution_count": null,
      "metadata": {
        "colab": {
          "base_uri": "https://localhost:8080/"
        },
        "id": "G-t-Bj8Ca0eT",
        "outputId": "73fc29d3-48d6-4cbf-ca66-558e39bcf92a"
      },
      "outputs": [
        {
          "output_type": "stream",
          "name": "stdout",
          "text": [
            "55.0\n",
            "(array([35, 40, 45, 50, 55, 60, 65, 70, 75]), array([1, 2, 2, 4, 3, 3, 2, 2, 2]))\n",
            "0    50\n",
            "dtype: int64\n",
            "55.0\n"
          ]
        }
      ],
      "source": [
        "import numpy as np\n",
        "import pandas as pd\n",
        "data=[35,45,40,60,55,50,65,70,60,75,50,55,65,70,60,75,50,55,45,40,50]\n",
        "median_numpy=np.median(data)\n",
        "mode_numpy=np.unique(data,return_counts=True)\n",
        "mode_pandas=pd.Series(data).mode()[0]\n",
        "median_pandas=pd.Series(data).median()[0]\n",
        "print(median_numpy)\n",
        "print(mode_numpy)\n",
        "print(mode_pandas)\n",
        "print(median_pandas)"
      ]
    },
    {
      "cell_type": "code",
      "source": [
        "import numpy as np\n",
        "import pandas as pd\n",
        "data = [25, 30, 35, 40, 45, 50]\n",
        "freq = [5, 8, 12, 10, 6, 4]\n",
        "df = pd.DataFrame({'Data': data, 'Frequency': freq})\n",
        "print(df)\n",
        "median = np.median(df['Data'])\n",
        "mode = df['Data'].mode()[0]\n",
        "print(\"Median:\", median)\n",
        "print(\"Mode:\", mode)\n"
      ],
      "metadata": {
        "colab": {
          "base_uri": "https://localhost:8080/"
        },
        "id": "21PMtPs5a9o2",
        "outputId": "57df995d-640c-4700-adb5-3b4d23ef5578"
      },
      "execution_count": null,
      "outputs": [
        {
          "output_type": "stream",
          "name": "stdout",
          "text": [
            "   Data  Frequency\n",
            "0    25          5\n",
            "1    30          8\n",
            "2    35         12\n",
            "3    40         10\n",
            "4    45          6\n",
            "5    50          4\n",
            "Median: 37.5\n",
            "Mode: 25\n"
          ]
        }
      ]
    },
    {
      "cell_type": "code",
      "source": [
        "import numpy as np\n",
        "import pandas as pd\n",
        "\n",
        "data = {\n",
        "    'class_intervals': [(20,30),(30,40),(40,50),(50,60),(60,70),(70,80)],\n",
        "    'frequencies': [5, 8, 12, 10, 6, 4]\n",
        "}\n",
        "df = pd.DataFrame(data)\n",
        "print(\"Original DataFrame:\\n\", df)\n",
        "\n",
        "\n",
        "df['CF'] = df['frequencies'].cumsum()\n",
        "print(\"DataFrame with Cumulative Frequency (CF):\\n\", df)\n",
        "\n",
        "\n",
        "N = df['frequencies'].sum()\n",
        "median_class_index = df[df['CF'] >= (N / 2)].index[0]\n",
        "median_class_interval = df.loc[median_class_index, 'class_intervals']\n",
        "l_b, u_p = median_class_interval[0], median_class_interval[1]\n",
        "f_median = df.loc[median_class_index, 'frequencies']\n",
        "cf_pre = 0 if median_class_index == 0 else df.loc[median_class_index - 1, 'CF']\n",
        "h = u_p - l_b\n",
        "\n",
        "\n",
        "median = l_b + ((N / 2) - cf_pre) / f_median * h\n",
        "print(\"Median of the given data is:\", median)\n"
      ],
      "metadata": {
        "colab": {
          "base_uri": "https://localhost:8080/"
        },
        "id": "4uoRLddMFK0t",
        "outputId": "70004e81-d7ee-4233-b766-555b5404fe29"
      },
      "execution_count": 1,
      "outputs": [
        {
          "output_type": "stream",
          "name": "stdout",
          "text": [
            "Original DataFrame:\n",
            "   class_intervals  frequencies\n",
            "0        (20, 30)            5\n",
            "1        (30, 40)            8\n",
            "2        (40, 50)           12\n",
            "3        (50, 60)           10\n",
            "4        (60, 70)            6\n",
            "5        (70, 80)            4\n",
            "DataFrame with Cumulative Frequency (CF):\n",
            "   class_intervals  frequencies  CF\n",
            "0        (20, 30)            5   5\n",
            "1        (30, 40)            8  13\n",
            "2        (40, 50)           12  25\n",
            "3        (50, 60)           10  35\n",
            "4        (60, 70)            6  41\n",
            "5        (70, 80)            4  45\n",
            "Median of the given data is: 47.916666666666664\n"
          ]
        }
      ]
    },
    {
      "cell_type": "code",
      "source": [
        "import numpy as np\n",
        "import pandas as pd\n",
        "class_intervals=[(20,30),(30,40),(40,50),(50,60),(60,70),(70,80)]\n",
        "frequencies=[5,8,12,10,6,4]\n",
        "df=pd.DataFrame({'Class': class_intervals,'Frequency': frequencies})\n",
        "df['Cumulative Frequency']=df['Frequency'].cumsum()\n",
        "print(df)\n",
        "median=np.median(df['Class'])\n",
        "mode=df['Class'].mode()[0]\n",
        "print(median)\n",
        "print(mode)"
      ],
      "metadata": {
        "colab": {
          "base_uri": "https://localhost:8080/"
        },
        "id": "G2QOVTewhMxt",
        "outputId": "f0e1f214-750d-4b5a-cf29-219f06948d0c"
      },
      "execution_count": null,
      "outputs": [
        {
          "output_type": "stream",
          "name": "stdout",
          "text": [
            "      Class  Frequency  Cumulative Frequency\n",
            "0  (20, 30)          5                     5\n",
            "1  (30, 40)          8                    13\n",
            "2  (40, 50)         12                    25\n",
            "3  (50, 60)         10                    35\n",
            "4  (60, 70)          6                    41\n",
            "5  (70, 80)          4                    45\n",
            "[20. 25. 25. 30.]\n",
            "(20, 30)\n"
          ]
        }
      ]
    }
  ]
}