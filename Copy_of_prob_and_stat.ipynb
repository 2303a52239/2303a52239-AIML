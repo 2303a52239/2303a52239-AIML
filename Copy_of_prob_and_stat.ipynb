{
  "nbformat": 4,
  "nbformat_minor": 0,
  "metadata": {
    "colab": {
      "provenance": [],
      "authorship_tag": "ABX9TyMygRlecqH+LoN+WJpkAxqY",
      "include_colab_link": true
    },
    "kernelspec": {
      "name": "python3",
      "display_name": "Python 3"
    },
    "language_info": {
      "name": "python"
    }
  },
  "cells": [
    {
      "cell_type": "markdown",
      "metadata": {
        "id": "view-in-github",
        "colab_type": "text"
      },
      "source": [
        "<a href=\"https://colab.research.google.com/github/2303a52239/2303a52239-AIML/blob/main/Copy_of_prob_and_stat.ipynb\" target=\"_parent\"><img src=\"https://colab.research.google.com/assets/colab-badge.svg\" alt=\"Open In Colab\"/></a>"
      ]
    },
    {
      "cell_type": "code",
      "source": [
        "import numpy as np\n",
        "import pandas as pd\n",
        "\n",
        "data = [12, 45, 67, 23, 45, 89, 45, 12, 33, 67, 67, 78, 45, 23, 23, 56, 89, 45, 33, 45]\n",
        "\n",
        "# Calculating median using NumPy\n",
        "median_numpy = np.median(data)\n",
        "\n",
        "# Calculating mode using NumPy (alternative approach)\n",
        "values, counts = np.unique(data, return_counts=True)\n",
        "mode_numpy = values[np.argmax(counts)]\n",
        "\n",
        "# Calculating median and mode using Pandas\n",
        "mode_pandas = pd.Series(data).mode().iloc[0]\n",
        "median_pandas = pd.Series(data).median()\n",
        "\n",
        "print(\"Median using NumPy:\", median_numpy)\n",
        "print(\"Mode using NumPy:\", mode_numpy)\n",
        "print(\"Mode using Pandas:\", mode_pandas)\n",
        "print(\"Median using Pandas:\", median_pandas)\n"
      ],
      "metadata": {
        "colab": {
          "base_uri": "https://localhost:8080/"
        },
        "id": "H9LMjvNpHsWi",
        "outputId": "05fbe970-a94a-46d3-ab7b-3749c704ac59"
      },
      "execution_count": 4,
      "outputs": [
        {
          "output_type": "stream",
          "name": "stdout",
          "text": [
            "Median using NumPy: 45.0\n",
            "Mode using NumPy: 45\n",
            "Mode using Pandas: 45\n",
            "Median using Pandas: 45.0\n"
          ]
        }
      ]
    },
    {
      "cell_type": "code",
      "source": [
        "import numpy as np\n",
        "import pandas as pd\n",
        "data = [10,20,30,40,50]\n",
        "freq = [5,8,12,15,7]\n",
        "df = pd.DataFrame({'Data': data, 'Frequency': freq})\n",
        "print(df)\n",
        "median = np.median(df['Data'])\n",
        "mode = df['Data'].mode()[0]\n",
        "print(\"Median:\", median)\n",
        "print(\"Mode:\", mode)\n"
      ],
      "metadata": {
        "colab": {
          "base_uri": "https://localhost:8080/"
        },
        "id": "21PMtPs5a9o2",
        "outputId": "acb8db61-08a7-4b75-f60b-f66c709fc1e2"
      },
      "execution_count": 5,
      "outputs": [
        {
          "output_type": "stream",
          "name": "stdout",
          "text": [
            "   Data  Frequency\n",
            "0    10          5\n",
            "1    20          8\n",
            "2    30         12\n",
            "3    40         15\n",
            "4    50          7\n",
            "Median: 30.0\n",
            "Mode: 10\n"
          ]
        }
      ]
    },
    {
      "cell_type": "code",
      "source": [
        "import numpy as np\n",
        "import pandas as pd\n",
        "\n",
        "data = {\n",
        "    'class_intervals': [(0,10),(10,20),(20,30),(30,40),(40,50)],\n",
        "    'frequencies': [4,6,10,8,2]\n",
        "}\n",
        "df = pd.DataFrame(data)\n",
        "print(\"Original DataFrame:\\n\", df)\n",
        "\n",
        "\n",
        "df['CF'] = df['frequencies'].cumsum()\n",
        "print(\"DataFrame with Cumulative Frequency (CF):\\n\", df)\n",
        "\n",
        "\n",
        "N = df['frequencies'].sum()\n",
        "median_class_index = df[df['CF'] >= (N / 2)].index[0]\n",
        "median_class_interval = df.loc[median_class_index, 'class_intervals']\n",
        "l_b, u_p = median_class_interval[0], median_class_interval[1]\n",
        "f_median = df.loc[median_class_index, 'frequencies']\n",
        "cf_pre = 0 if median_class_index == 0 else df.loc[median_class_index - 1, 'CF']\n",
        "h = u_p - l_b\n",
        "\n",
        "\n",
        "median = l_b + ((N / 2) - cf_pre) / f_median * h\n",
        "print(\"Median of the given data is:\", median)\n"
      ],
      "metadata": {
        "colab": {
          "base_uri": "https://localhost:8080/"
        },
        "id": "4uoRLddMFK0t",
        "outputId": "3ba93367-b962-4323-a0a2-e13486ec5d32"
      },
      "execution_count": 6,
      "outputs": [
        {
          "output_type": "stream",
          "name": "stdout",
          "text": [
            "Original DataFrame:\n",
            "   class_intervals  frequencies\n",
            "0         (0, 10)            4\n",
            "1        (10, 20)            6\n",
            "2        (20, 30)           10\n",
            "3        (30, 40)            8\n",
            "4        (40, 50)            2\n",
            "DataFrame with Cumulative Frequency (CF):\n",
            "   class_intervals  frequencies  CF\n",
            "0         (0, 10)            4   4\n",
            "1        (10, 20)            6  10\n",
            "2        (20, 30)           10  20\n",
            "3        (30, 40)            8  28\n",
            "4        (40, 50)            2  30\n",
            "Median of the given data is: 25.0\n"
          ]
        }
      ]
    },
    {
      "cell_type": "code",
      "source": [
        "import numpy as np\n",
        "import pandas as pd\n",
        "class_intervals=[(0,10),(10,20),(20,30),(30,40),(40,50)]\n",
        "frequencies=[4,6,10,8,2]\n",
        "df=pd.DataFrame({'Class': class_intervals,'Frequency': frequencies})\n",
        "df['Cumulative Frequency']=df['Frequency'].cumsum()\n",
        "print(df)\n",
        "median=np.median(df['Class'])\n",
        "mode=df['Class'].mode()[0]\n",
        "print(median)\n",
        "print(mode)"
      ],
      "metadata": {
        "colab": {
          "base_uri": "https://localhost:8080/"
        },
        "id": "G2QOVTewhMxt",
        "outputId": "0bd3e9eb-96e7-4416-bc6c-d887d294d02f"
      },
      "execution_count": 7,
      "outputs": [
        {
          "output_type": "stream",
          "name": "stdout",
          "text": [
            "      Class  Frequency  Cumulative Frequency\n",
            "0   (0, 10)          4                     4\n",
            "1  (10, 20)          6                    10\n",
            "2  (20, 30)         10                    20\n",
            "3  (30, 40)          8                    28\n",
            "4  (40, 50)          2                    30\n",
            "[20. 30.]\n",
            "(0, 10)\n"
          ]
        }
      ]
    }
  ]
}